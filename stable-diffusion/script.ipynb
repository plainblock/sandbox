{
 "cells": [
  {
   "cell_type": "code",
   "execution_count": null,
   "id": "22d8fe47-15cf-4fc0-bb83-b483ab9f2abb",
   "metadata": {},
   "outputs": [],
   "source": [
    "import os\n",
    "from common import generate_images, load_prompt, load_token\n",
    "from model import setup_model\n",
    "from huggingface_hub import login"
   ]
  },
  {
   "cell_type": "code",
   "execution_count": null,
   "id": "506591f8-f411-4335-8d0e-63343544f0b7",
   "metadata": {},
   "outputs": [],
   "source": [
    "# Login to Hugging Face\n",
    "token = load_token(\"token.txt\")\n",
    "login(token)"
   ]
  },
  {
   "cell_type": "code",
   "execution_count": null,
   "id": "b7070601-8223-4227-bbdf-ec5fab5eb3d9",
   "metadata": {},
   "outputs": [],
   "source": [
    "# Setup parameters\n",
    "number = 1\n",
    "# model = \"gsdf/Counterfeit-V2.5\"\n",
    "model = \"stabilityai/stable-diffusion-3-medium-diffusers\"\n",
    "directory = \"generate\"\n",
    "\n",
    "# Read prompts\n",
    "positive, negative = load_prompt(\"positive-prompt.txt\", \"negative-prompt.txt\")\n",
    "print(\"positive: {}\".format(positive))\n",
    "print(\"negative: {}\".format(negative))\n",
    "\n",
    "# Generate image\n",
    "os.makedirs(directory, exist_ok=True)\n",
    "model = setup_model(model)\n",
    "generate_images(model, positive, negative, number, directory)"
   ]
  }
 ],
 "metadata": {
  "kernelspec": {
   "display_name": "Python 3 (ipykernel)",
   "language": "python",
   "name": "python3"
  },
  "language_info": {
   "codemirror_mode": {
    "name": "ipython",
    "version": 3
   },
   "file_extension": ".py",
   "mimetype": "text/x-python",
   "name": "python",
   "nbconvert_exporter": "python",
   "pygments_lexer": "ipython3",
   "version": "3.10.12"
  }
 },
 "nbformat": 4,
 "nbformat_minor": 5
}
